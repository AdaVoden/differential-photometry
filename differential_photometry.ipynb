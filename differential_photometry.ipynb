{
 "cells": [
  {
   "cell_type": "code",
   "execution_count": 15,
   "metadata": {
    "tags": []
   },
   "outputs": [
    {
     "output_type": "stream",
     "name": "stdout",
     "text": [
      "[76.742 37.473  6.249 10.788 84.189 52.499  9.716  4.161  4.325  2.289\n 19.283 42.949  4.044  6.08   6.282 10.101  3.48   4.614  3.011  3.554\n  3.921  4.173  2.721  5.962  4.536  5.074  8.723  5.55   5.312  5.136\n  4.519  4.475  3.931  2.627  1.886 10.654  3.416  4.904  4.931  5.441\n 14.19   4.432  6.482 16.527  5.307  5.428  5.613  3.737  6.012  3.171\n  8.232  3.707  3.329  4.515  4.324  9.311  6.029  4.378  4.849  5.997\n  3.058 11.131  3.766  5.651 10.702  4.4    4.774  3.532  5.176 10.934\n  2.991  3.232  6.079  3.933  4.582  8.283  3.302]\n"
     ]
    }
   ],
   "source": [
    "import numpy as np\n",
    "import pandas as pd\n",
    "import rao_utilities as util\n",
    "import rao_plotting as plot\n",
    "import rao_models as model\n",
    "import rao_stats as stat\n",
    "import rao_math as m\n",
    "import warnings\n",
    "import importlib\n",
    "\n",
    "from numpy import sqrt\n",
    "from feets import ExtractorWarning\n",
    "from pathlib import PurePath\n",
    "\n",
    "importlib.reload(util)\n",
    "importlib.reload(plot)\n",
    "importlib.reload(model)\n",
    "importlib.reload(m)\n",
    "importlib.reload(stat)\n",
    "\n",
    "## CONSTANTS ============================================================================\n",
    "# FILENAME = 'data/data.csv'\n",
    "FILENAME = 'data/M3_raw01_Photometry25-47-59.csv' \n",
    "# FILENAME = 'data/M3_raw02_Photometry25-47-59.csv'\n",
    "# FILENAME = 'data/M3_raw03_Photometry28-47-55.csv'\n",
    "# FILENAME = 'data/M3_raw04_Photometry35-47-55.csv'\n",
    "# FILENAME = 'data/M3_raw01_Photometry28_47_55_may_29.csv'\n",
    "# FILENAME = 'data/M3_2nights_rawPhotometry.csv'\n",
    "# FILENAME = 'data/M3_night_1.xlsx'\n",
    "# FILENAME = 'data/M3_night_2.xlsx'\n",
    "EXPOSURE_TIME = 2.5\n",
    "\n",
    "warnings.simplefilter(action='ignore', category=FutureWarning)\n",
    "warnings.filterwarnings(\"ignore\", category=DeprecationWarning) # Need this to prevent it from spamming\n",
    "warnings.filterwarnings(\"ignore\", category=ExtractorWarning)\n",
    "## FUNCTIONS ============================================================================\n",
    "\n",
    "# I moved everything into different python modules since this was getting extremely large\n",
    "\n",
    "## CALCULATION ============================================================================\n",
    "file = PurePath(FILENAME)\n",
    "\n",
    "df = util.extract_data(FILENAME)\n",
    "bad_rows = df[df['name'] == 'M3-12']\n",
    "df = df.drop(index=bad_rows.index)\n",
    "\n",
    "mags = df['mag'].to_numpy(dtype='float64')\n",
    "error = df['error'].to_numpy(dtype='float64')\n",
    "\n",
    "\n",
    "if 'jd' in df.columns:\n",
    "    timeline = df['jd'].unique()\n",
    "    df['jd'] = pd.to_datetime(df['jd'], origin='julian', unit='D')\n",
    "else: \n",
    "    timeline = np.linspace(0, samples*EXPOSURE_TIME, samples)\n",
    "\n",
    "average_diff_mags, average_uncertainties = m.calculate_differential_photometry(magnitudes = df['mag'],\n",
    "                                                                                error = df['error'],\n",
    "                                                                                num_stars = num_stars,\n",
    "                                                                                num_samples = num_samples)\n",
    "\n",
    "df['average_diff_mags'] = average_diff_mags.T.reshape(samples*num_stars, 1)\n",
    "df['average_uncertainties'] = average_uncertainties.T.reshape(samples*num_stars, 1)\n",
    "\n",
    "# box_model_results = model.box_least_squares(average_diff_mags, average_uncertainties, timeline=timeline)\n",
    "\n",
    "# # Feature Extraction information\n",
    "# indices = m.calculate_all_feets_indices(data = average_diff_mags, \n",
    "#                                           timeline = timeline, \n",
    "#                                           uncertainties= average_uncertainties)\n",
    "# feature_df = pd.DataFrame(indices)\n",
    "# feature_df.to_excel('Features_of_stars.xlsx')\n",
    "\n",
    "# # Data export for Dr. Langill\n",
    "# indices_of_stars = [ sub['name'] for sub in box_model_results]\n",
    "# original_data_filtered = df.iloc[indices_of_stars]\n",
    "# original_data_filtered.to_excel('Stars_with_varying_light.xlsx')\n",
    "\n",
    "# # Chi squared test\n",
    "chi = np.array(stat.reduced_chi_square(mags.T, error.T, timeline))\n",
    "np.set_printoptions(precision=3, suppress=True, threshold=1000)\n",
    "print(chi)\n",
    "\n",
    "# pd.DataFrame({'chisquared':chi}).to_excel('chi_squared_test.xlsx')\n",
    "\n",
    "# plot.plot_and_save_all(df, file.stem)"
   ]
  }
 ],
 "metadata": {
  "interpreter": {
   "hash": "a88393d32087fd1a79004ee607867ae1b177f140e0215b09e60bbe0181a8af96"
  },
  "kernelspec": {
   "name": "python3",
   "display_name": "Python 3.8.8 64-bit ('anaconda3')"
  },
  "language_info": {
   "codemirror_mode": {
    "name": "ipython",
    "version": 3
   },
   "file_extension": ".py",
   "mimetype": "text/x-python",
   "name": "python",
   "nbconvert_exporter": "python",
   "pygments_lexer": "ipython3",
   "version": "3.8.8"
  },
  "orig_nbformat": 2
 },
 "nbformat": 4,
 "nbformat_minor": 2
}
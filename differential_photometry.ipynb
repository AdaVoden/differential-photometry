{
 "cells": [
  {
   "cell_type": "code",
   "execution_count": 10,
   "metadata": {
    "tags": []
   },
   "outputs": [
    {
     "output_type": "stream",
     "name": "stdout",
     "text": [
      "[1.60057088e+01 6.88166470e+00 4.29575870e+01 7.65119954e-01\n 7.88758763e+00 1.68495764e+00 2.94945571e+00 3.53158301e+00\n 4.70316542e-01 7.70918462e+00 4.21756171e+01 2.63958383e-01\n 5.96930500e+00 4.19386495e+00 3.34564289e-01 8.69532962e+01\n 2.22737031e+00 3.54608165e+00 4.18782637e-01 9.92444388e-01\n 2.72634532e+00 2.46127011e+00 4.36215040e-01 3.09111743e-01\n 1.55771788e+00 8.89290164e-01 7.56153358e-01 1.28644674e+00\n 1.69999584e+00 6.12119759e-01 8.45751084e-01 6.90075255e-01\n 1.96016118e+00 1.25581031e+00 1.64543118e+00 2.77588548e+00\n 1.46590834e+00 4.01660871e-02 1.11673123e+00 2.25623521e+00\n 2.02991975e+00 1.54443616e+00 6.88916030e-01 1.71685842e+00\n 1.40741833e+00 2.85933956e-01 3.65819254e-01 1.98323326e+00\n 2.97112486e-02 4.71115023e-02 1.98369711e-01 6.84578710e-02\n 1.41310767e+00 3.60276280e-01 4.28017690e-01 1.40914294e+00\n 3.62484792e-01 1.06693216e+00 5.71020592e-01 3.97677672e-01\n 5.60224838e-01 2.98087217e-01 3.04385174e+00 2.70768096e+00\n 1.06863336e+00 4.35045026e-01 1.47814781e+00 1.03571796e+00\n 2.95079700e+00 3.76736831e+00 3.64100996e-01 4.02428318e+00\n 2.71024368e+00 1.70046032e+00 1.96996578e+00 2.52915548e-01\n 1.79708275e+00 1.96949502e+00 6.71357419e-01 1.44838616e+00\n 7.36623578e-01 4.16558907e-01 1.17429788e+00 2.16265774e+00\n 1.77194248e-01 2.03346438e+00 4.19621976e+00 2.70415696e+00\n 3.29386266e+00 1.44483268e+00 1.06523326e+00 8.21128526e-01\n 2.56542906e+00 8.13900559e-01 4.92833176e-01 3.96489172e+00\n 1.26881264e+00 2.02989534e+00 5.74518301e-01 1.53623484e+00\n 3.10193042e+00 2.19630760e+00 2.70337278e+00 1.89129484e+00\n 6.19025429e-01 3.49059457e-01 2.52643988e+00 1.66593260e+00\n 3.04820594e+00 8.05213688e-01 6.69326584e-01 3.27215212e+00\n 1.73488215e+00 1.12127518e+00 1.47601136e+00 3.03609563e+00\n 5.90721657e-01 4.59141865e-01 6.15982874e-01 9.82128293e-01\n 1.96234453e+00 2.56142201e+00 1.00266576e+00 2.65820653e+00\n 5.46217415e-01 6.99342404e-01 3.69984740e-01 1.12791568e-01\n 1.96249519e-01 4.10585523e-01 5.73511400e-01 2.21144789e-01\n 1.47511882e+00 1.16643766e+00 1.96010276e+00 2.31923565e+00\n 1.29798842e+00 4.26448749e-01 2.85443232e+00 9.82033409e-01\n 1.65354477e+00 3.48114793e-01 2.25706785e+00 1.00992172e+00\n 2.48419420e+00 4.40575517e-01 1.56597379e+00 1.02140134e+00\n 2.21015035e+00 4.30030329e-01 8.44514627e-01 5.24473164e-01\n 4.70390422e-01 1.00775800e+00 6.09160916e-01 2.53364959e+00\n 1.49966749e+00 3.86333300e+00 3.44304379e-01 1.95735634e+00\n 1.05486559e+00 3.25059108e+00 2.49233196e+00 5.06009210e+00\n 5.64480206e-01 4.28025476e-01 9.91453055e-01 4.43900725e-01\n 1.39927549e-02 2.04365033e+00 1.56211273e+00 2.34848574e+00\n 2.82292067e+00 1.30233362e+00 2.55915347e+00 6.61696194e-01\n 4.41998140e-01 2.80894253e+00 3.38337220e+00 2.24539215e+00\n 5.91639335e-01 1.28126100e+00 1.55230618e+00 9.99428244e-01\n 5.05772994e+00 2.63984170e+00 4.07668104e+00 1.07383017e+00\n 3.11195582e+00 2.29350959e+00 3.29341427e+00 4.56792814e-01\n 2.44552792e+00 9.54128918e-01 7.27176667e-01 2.80159909e+00\n 3.13413033e+00 4.72767473e-01 4.22187138e-01 2.17651337e+00\n 1.98809425e+00 2.90697926e+00 3.66696695e+00 3.14477218e+00\n 2.56122100e+00 1.49676399e+00 8.87814206e-01 1.40407244e+00\n 2.84260572e+00 2.50386516e+00 2.15857802e+00 9.52201029e-01\n 1.36055990e+00 2.54713388e+00 9.63082643e-01 9.01157470e+00\n 3.74320818e-01 6.02045817e-01 2.32973261e+00]\n"
     ]
    }
   ],
   "source": [
    "import numpy as np\n",
    "import pandas as pd\n",
    "import rao_utilities as util\n",
    "import rao_plotting as plot\n",
    "import rao_models as model\n",
    "import rao_math as m\n",
    "import warnings\n",
    "import importlib\n",
    "\n",
    "from numpy import sqrt\n",
    "from feets import ExtractorWarning\n",
    "from pathlib import PurePath\n",
    "\n",
    "importlib.reload(util)\n",
    "importlib.reload(plot)\n",
    "importlib.reload(model)\n",
    "importlib.reload(m)\n",
    "\n",
    "## CONSTANTS ============================================================================\n",
    "# FILENAME = 'data/data.csv'\n",
    "# FILENAME = 'data/M3_raw01_Photometry25-47-59.csv' \n",
    "# FILENAME = 'data/M3_raw02_Photometry25-47-59.csv'\n",
    "# FILENAME = 'data/M3_raw03_Photometry28-47-55.csv'\n",
    "# FILENAME = 'data/M3_raw04_Photometry35-47-55.csv'\n",
    "# FILENAME = 'data/M3_raw01_Photometry28_47_55_may_29.csv' # Change me to work with different files/filename\n",
    "# FILENAME = 'data/M3_2nights_rawPhotometry.csv'\n",
    "FILENAME = 'data/M3_night_1.xlsx'\n",
    "# FILENAME = 'data/M3_night_2.xlsx'\n",
    "EXPOSURE_TIME = 2.5\n",
    "\n",
    "warnings.simplefilter(action='ignore', category=FutureWarning)\n",
    "warnings.filterwarnings(\"ignore\", category=DeprecationWarning) # Need this to prevent it from spamming\n",
    "warnings.filterwarnings(\"ignore\", category=ExtractorWarning)\n",
    "## FUNCTIONS ============================================================================\n",
    "\n",
    "# I moved everything into different python modules since this was getting extremely large\n",
    "\n",
    "## CALCULATION ============================================================================\n",
    "file = PurePath(FILENAME)\n",
    "\n",
    "df = util.extract_data(FILENAME)\n",
    "bad_rows = df[df['name'] == 'M3-12']\n",
    "df = df.drop(index=bad_rows.index)\n",
    "\n",
    "mags = df['mag'].to_numpy(dtype='float64')\n",
    "error = df['error'].to_numpy(dtype='float64')\n",
    "\n",
    "num_stars, samples = util.extract_samples_stars(df)\n",
    "if 'jd' in df.columns:\n",
    "    timeline = df['jd'].unique()\n",
    "    df['jd'] = pd.to_datetime(df['jd'], origin='julian', unit='D')\n",
    "else: \n",
    "    timeline = np.linspace(0, samples*EXPOSURE_TIME, samples)\n",
    "\n",
    "mags = np.reshape(mags, (samples, num_stars))      # Stack both mags and error according to time, new column = new file in time\n",
    "error = np.reshape(error, (samples, num_stars))\n",
    "diff_mags = m.subtract_all_magnitudes(mags)          # array of arrays, each array corresponding to a single star as the 'target'\n",
    "uncertainties = m.calculate_all_uncertainties(error) # Each individual array is organized by incrementing time in columns, rows are stars\n",
    "average_diff_mags = np.mean(diff_mags, axis=1, dtype=np.float64) # mean of every column, accumulating all stars at particular time\n",
    "average_uncertainties = sqrt(np.sum(uncertainties**2, axis=1, dtype=np.float64))/uncertainties[0].shape[0] # sum of squares of each column, then sqrt'd\n",
    "\n",
    "df['average_diff_mags'] = average_diff_mags.T.reshape(samples*num_stars, 1)\n",
    "df['average_uncertainties'] = average_uncertainties.T.reshape(samples*num_stars, 1)\n",
    "\n",
    "box_model_results = model.box_least_squares(average_diff_mags, average_uncertainties, timeline=timeline)\n",
    "\n",
    "# # Feature Extraction information\n",
    "# indices = m.calculate_all_feets_indices(data = average_diff_mags, \n",
    "#                                           timeline = timeline, \n",
    "#                                           uncertainties= average_uncertainties)\n",
    "# feature_df = pd.DataFrame(indices)\n",
    "# feature_df.to_excel('Features_of_stars.xlsx')\n",
    "\n",
    "# # Data export for Dr. Langill\n",
    "# indices_of_stars = [ sub['name'] for sub in box_model_results]\n",
    "# original_data_filtered = df.iloc[indices_of_stars]\n",
    "# original_data_filtered.to_excel('Stars_with_varying_light.xlsx')\n",
    "\n",
    "# # Chi squared test\n",
    "chi = model.reduced_chi_square(mags.T, error.T, timeline)\n",
    "print(chi)\n",
    "# pd.DataFrame({'chisquared':chi}).to_excel('chi_squared_test.xlsx')\n",
    "\n",
    "# plot.plot_and_save_all(df, file.stem)"
   ]
  }
 ],
 "metadata": {
  "interpreter": {
   "hash": "a88393d32087fd1a79004ee607867ae1b177f140e0215b09e60bbe0181a8af96"
  },
  "kernelspec": {
   "name": "python3",
   "display_name": "Python 3.8.8 64-bit ('base': conda)"
  },
  "language_info": {
   "codemirror_mode": {
    "name": "ipython",
    "version": 3
   },
   "file_extension": ".py",
   "mimetype": "text/x-python",
   "name": "python",
   "nbconvert_exporter": "python",
   "pygments_lexer": "ipython3",
   "version": "3.8.8"
  },
  "orig_nbformat": 2
 },
 "nbformat": 4,
 "nbformat_minor": 2
}
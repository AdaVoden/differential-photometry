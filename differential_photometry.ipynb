{
 "cells": [
  {
   "cell_type": "code",
   "execution_count": 25,
   "metadata": {
    "tags": []
   },
   "outputs": [
    {
     "output_type": "stream",
     "name": "stdout",
     "text": [
      "[ 82.5688118   42.83218453   6.67514935  11.0463576  143.09091118\n  59.39723694  11.78681331   4.18879671   4.33205281   2.30495986\n  20.07603213  52.07801702   4.15563301   6.10396308   6.50044851\n  10.10548311   3.52918289   4.71359178   3.06957775   3.65382969\n   4.10970365   4.29947194   2.81150419   6.13499016   4.85813542\n   5.11108465   9.14754834   5.98030997   5.35877155   5.3429034\n   4.66174233   4.6546779    4.06055268   2.72439357   1.88941989\n  10.90348573   3.49488672   5.09545972   5.07589592   5.5652656\n  14.68745642   4.56335926   6.66787971  16.64792891   5.43309406\n   5.67794736   5.78337234   3.83761719   6.17848631   3.24599673\n   8.34132506   3.78396004   3.37731693   4.67624591   4.38079765\n   9.74758284   6.17907656   4.4712575    4.9946243    6.0526294\n   3.0963203   11.15728684   3.81471611   5.79906946  10.73128945\n   4.48792266   4.77781768   3.54170101   5.24180088  11.03359977\n   3.05211699   3.31410121   6.08923776   4.05470842   4.81328449\n   8.32955975   3.30579434]\n"
     ]
    }
   ],
   "source": [
    "import numpy as np\n",
    "import pandas as pd\n",
    "import rao_utilities as util\n",
    "import rao_plotting as plot\n",
    "import rao_models as model\n",
    "import rao_math as m\n",
    "import warnings\n",
    "import importlib\n",
    "\n",
    "from numpy import sqrt\n",
    "from feets import ExtractorWarning\n",
    "from pathlib import PurePath\n",
    "\n",
    "importlib.reload(util)\n",
    "importlib.reload(plot)\n",
    "importlib.reload(model)\n",
    "importlib.reload(m)\n",
    "\n",
    "## CONSTANTS ============================================================================\n",
    "# FILENAME = 'data/data.csv'\n",
    "FILENAME = 'data/M3_raw01_Photometry25-47-59.csv' \n",
    "# FILENAME = 'data/M3_raw02_Photometry25-47-59.csv'\n",
    "# FILENAME = 'data/M3_raw03_Photometry28-47-55.csv'\n",
    "# FILENAME = 'data/M3_raw04_Photometry35-47-55.csv'\n",
    "# FILENAME = 'data/M3_raw01_Photometry28_47_55_may_29.csv' # Change me to work with different files/filename\n",
    "# FILENAME = 'data/M3_2nights_rawPhotometry.csv'\n",
    "# FILENAME = 'data/M3_night_1.xlsx'\n",
    "# FILENAME = 'data/M3_night_2.xlsx'\n",
    "\n",
    "warnings.simplefilter(action='ignore', category=FutureWarning)\n",
    "warnings.filterwarnings(\"ignore\", category=DeprecationWarning) # Need this to prevent it from spamming\n",
    "warnings.filterwarnings(\"ignore\", category=ExtractorWarning)\n",
    "## FUNCTIONS ============================================================================\n",
    "\n",
    "# I moved everything into different python modules since this was getting extremely large\n",
    "\n",
    "## CALCULATION ============================================================================\n",
    "file = PurePath(FILENAME)\n",
    "\n",
    "df = util.extract_data(FILENAME)\n",
    "# bad_rows = df[df['name'] == 'M3-12']\n",
    "# df = df.drop(index=bad_rows.index)\n",
    "\n",
    "mags = df['mag'].to_numpy(dtype='float64')\n",
    "error = df['error'].to_numpy(dtype='float64')\n",
    "\n",
    "num_stars, samples = util.extract_samples_stars(df)\n",
    "if 'jd' in df.columns:\n",
    "    timeline = df['jd'].unique()\n",
    "    df['jd'] = pd.to_datetime(df['jd'], origin='julian', unit='D')\n",
    "else: \n",
    "    timeline = np.linspace(0, samples*EXPOSURE_TIME, samples)\n",
    "\n",
    "mags = np.reshape(mags, (samples, num_stars))      # Stack both mags and error according to time, new column = new file in time\n",
    "error = np.reshape(error, (samples, num_stars))\n",
    "diff_mags = m.subtract_all_magnitudes(mags)          # array of arrays, each array corresponding to a single star as the 'target'\n",
    "uncertainties = m.calculate_all_uncertainties(error) # Each individual array is organized by incrementing time in columns, rows are stars\n",
    "average_diff_mags = np.mean(diff_mags, axis=1, dtype=np.float64) # mean of every column, accumulating all stars at particular time\n",
    "average_uncertainties = sqrt(np.sum(uncertainties**2, axis=1, dtype=np.float64))/uncertainties[0].shape[0] # sum of squares of each column, then sqrt'd\n",
    "\n",
    "df['average_diff_mags'] = average_diff_mags.T.reshape(samples*num_stars, 1)\n",
    "df['average_uncertainties'] = average_uncertainties.T.reshape(samples*num_stars, 1)\n",
    "\n",
    "box_model_results = model.box_least_squares(average_diff_mags, average_uncertainties, timeline=timeline)\n",
    "\n",
    "# # Feature Extraction information\n",
    "# indices = m.calculate_all_feets_indices(data = average_diff_mags, \n",
    "#                                           timeline = timeline, \n",
    "#                                           uncertainties= average_uncertainties)\n",
    "# feature_df = pd.DataFrame(indices)\n",
    "# feature_df.to_excel('Features_of_stars.xlsx')\n",
    "\n",
    "# # Data export for Dr. Langill\n",
    "# indices_of_stars = [ sub['name'] for sub in box_model_results]\n",
    "# original_data_filtered = df.iloc[indices_of_stars]\n",
    "# original_data_filtered.to_excel('Stars_with_varying_light.xlsx')\n",
    "\n",
    "# # Chi squared test\n",
    "chi = model.chi_squared(mags.T, error.T, timeline)\n",
    "print(chi)\n",
    "# pd.DataFrame({'chisquared':chi}).to_excel('chi_squared_test.xlsx')\n",
    "\n",
    "# plot.plot_and_save_all(df, file.stem)"
   ]
  }
 ],
 "metadata": {
  "interpreter": {
   "hash": "a88393d32087fd1a79004ee607867ae1b177f140e0215b09e60bbe0181a8af96"
  },
  "kernelspec": {
   "name": "python3",
   "display_name": "Python 3.8.8 64-bit ('base': conda)"
  },
  "language_info": {
   "codemirror_mode": {
    "name": "ipython",
    "version": 3
   },
   "file_extension": ".py",
   "mimetype": "text/x-python",
   "name": "python",
   "nbconvert_exporter": "python",
   "pygments_lexer": "ipython3",
   "version": "3.8.8"
  },
  "orig_nbformat": 2
 },
 "nbformat": 4,
 "nbformat_minor": 2
}
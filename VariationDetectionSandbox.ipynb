{
 "cells": [
  {
   "cell_type": "markdown",
   "id": "bf8d2774-5626-48d5-bacf-81ff4e6d1633",
   "metadata": {},
   "source": [
    "## Load in the data and have it ready for use"
   ]
  },
  {
   "cell_type": "code",
   "execution_count": 306,
   "id": "93e869bc-caa3-4587-92c4-6a6da0599ff7",
   "metadata": {},
   "outputs": [],
   "source": [
    "import pandas as pd\n",
    "import numpy as np\n",
    "from pathlib import Path\n",
    "\n",
    "data = Path(\"./data/M3_2nights_rawPhotometry.csv\")\n",
    "df = pd.read_csv(data, usecols=(\"Name  \", \"Mag   \", \"Error \", \"JD\"))\n",
    "df.columns = [x.strip() for x in df.columns]\n",
    "df[\"Mag\"] = pd.to_numeric(df[\"Mag\"], errors=\"coerce\")\n",
    "df[\"Error\"] = pd.to_numeric(df[\"Error\"], errors=\"coerce\")\n",
    "df[\"Time\"] = pd.to_datetime(df[\"JD\"], unit='D', origin='julian')\n",
    "df[\"JD\"] = pd.to_numeric(df[\"JD\"], errors=\"coerce\")\n",
    "df = df.set_index(\"Time\")"
   ]
  },
  {
   "cell_type": "markdown",
   "id": "cd4dd156-2f50-4645-9bbb-6c5db6512fe1",
   "metadata": {},
   "source": [
    "## Fix any issues with the data"
   ]
  },
  {
   "cell_type": "code",
   "execution_count": 309,
   "id": "b6318e5b-2db3-4fd3-8aa8-81a4ce248912",
   "metadata": {},
   "outputs": [],
   "source": [
    "df = df.dropna(how=\"all\")\n",
    "df = df.drop_duplicates()\n",
    "# Remove any entries without the most common number of datapoints\n",
    "mode = df.groupby(\"Name\").count().mode().values[0]\n",
    "counted = df.groupby(\"Name\").count()\n",
    "good_stars = counted[(counted == mode).all(1)].index.values\n",
    "df = df[df[\"Name\"].isin(good_stars)]"
   ]
  },
  {
   "cell_type": "markdown",
   "id": "cdf5af76-8956-4688-a3dd-bfca82309928",
   "metadata": {
    "tags": []
   },
   "source": [
    "## Differential Photometry and error propagation"
   ]
  },
  {
   "cell_type": "code",
   "execution_count": 310,
   "id": "5cdf4f3b-429e-4176-89bd-78bcc19b5812",
   "metadata": {},
   "outputs": [],
   "source": [
    "def diff_phot(star, df):\n",
    "    other_stars = df[df[\"Name\"] != star.name]\n",
    "    star_mag = star[\"Mag\"].values\n",
    "    other_mags = other_stars[\"Mag\"].values\n",
    "    star_error = star[\"Error\"].values\n",
    "    other_errors = other_stars[\"Error\"].values\n",
    "    N = len(other_mags) + 1\n",
    "    num_stars = other_stars[\"Name\"].nunique()\n",
    "    rows = other_stars.shape[0]\n",
    "    samples = int(rows / num_stars)\n",
    "    shape = (samples, num_stars)\n",
    "    other_mags = other_mags.reshape(shape).transpose()\n",
    "    other_errors = other_errors.reshape(shape).transpose()\n",
    "    star[\"DMag\"] = np.mean((other_mags - star_mag), axis=0).ravel()\n",
    "    star[\"DError\"] = np.sqrt(np.sum(other_errors**2 + star_error**2, axis=0))/N\n",
    "    return star\n",
    "    \n",
    "\n",
    "df = df.groupby(\"Name\").apply(diff_phot, df)"
   ]
  },
  {
   "cell_type": "code",
   "execution_count": 227,
   "id": "d677312b-3a48-4205-8be1-890f77da93b7",
   "metadata": {},
   "outputs": [],
   "source": [
    "def w_avg(df, values, weights):\n",
    "    d = df[values]\n",
    "    w = df[weights]\n",
    "    return (d * w).sum() / w.sum()"
   ]
  },
  {
   "cell_type": "markdown",
   "id": "c07a3fef-b69a-463e-9a1e-f260f844d1c0",
   "metadata": {},
   "source": [
    "## Exploratory data analysis"
   ]
  },
  {
   "cell_type": "code",
   "execution_count": 357,
   "id": "3f030411-6c2d-49a6-b661-6acdb0122d07",
   "metadata": {},
   "outputs": [
    {
     "data": {
      "text/plain": [
       "Name       M3-4M3-4M3-4M3-4M3-4M3-4M3-4M3-4M3-4M3-4M3-4M3...\n",
       "Mag                                                1598.2931\n",
       "Error                                                27.1474\n",
       "JD                                          258232144.930995\n",
       "DMag                                             -144.830592\n",
       "DError                                              0.012102\n",
       "DAvg                                              -151.73825\n",
       "DMedian                                          -132.853321\n",
       "DResid                                            -11.977271\n",
       "dtype: object"
      ]
     },
     "execution_count": 357,
     "metadata": {},
     "output_type": "execute_result"
    },
    {
     "data": {
      "text/plain": [
       "<Figure size 864x576 with 0 Axes>"
      ]
     },
     "metadata": {},
     "output_type": "display_data"
    },
    {
     "data": {
      "image/png": "[encoded data removed]",
      "text/plain": [
       "<Figure size 864x576 with 1 Axes>"
      ]
     },
     "metadata": {},
     "output_type": "display_data"
    }
   ],
   "source": [
    "import seaborn as sns\n",
    "import matplotlib.pyplot as plt\n",
    "import statsmodels.api as sm\n",
    "from statsmodels.formula.api import ols\n",
    "sns.set_theme(style=\"darkgrid\")\n",
    "fig1 = plt.figure(figsize=(12,8))\n",
    "fig2 = plt.figure(figsize=(12,8))\n",
    "star_name = \"M3-4\"\n",
    "star = df[(df[\"Name\"] == star_name) & (df.index.day == 19)].copy()\n",
    "star[\"DAvg\"] = w_avg(star, \"DMag\", \"DError\")\n",
    "star[\"DMedian\"] = star[\"DMag\"].median()\n",
    "star[\"DResid\"] = star[\"DMag\"] - star[\"DMedian\"]\n",
    "#model = ols('DMedian ~ DMag', data=star).fit()\n",
    "#sns.scatterplot(data=star, x=\"Time\", y=\"DResid\", ax=fig1.gca())\n",
    "#sm.graphics.plot_regress_exog(model, 'DMag', fig=fig2)\n",
    "sns.pairplot(star, x_vars=[\"JD\", \"DError\", \"DMag\", \"DResid\"], y_vars=[\"DMag\", \"DResid\", \"DError\"], height=8)\n",
    "sns.residplot(data=star, x=\"JD\", y=\"DMag\")\n",
    "star.sum()"
   ]
  },
  {
   "cell_type": "code",
   "execution_count": 330,
   "id": "e275df69-ae75-4e9b-a3b5-b0ec85729d3d",
   "metadata": {},
   "outputs": [
    {
     "data": {
      "text/html": [
       "<div>\n",
       "<style scoped>\n",
       "    .dataframe tbody tr th:only-of-type {\n",
       "        vertical-align: middle;\n",
       "    }\n",
       "\n",
       "    .dataframe tbody tr th {\n",
       "        vertical-align: top;\n",
       "    }\n",
       "\n",
       "    .dataframe thead th {\n",
       "        text-align: right;\n",
       "    }\n",
       "</style>\n",
       "<table border=\"1\" class=\"dataframe\">\n",
       "  <thead>\n",
       "    <tr style=\"text-align: right;\">\n",
       "      <th></th>\n",
       "      <th>Name</th>\n",
       "      <th>Mag</th>\n",
       "      <th>Error</th>\n",
       "      <th>JD</th>\n",
       "      <th>DMag</th>\n",
       "      <th>DError</th>\n",
       "    </tr>\n",
       "    <tr>\n",
       "      <th>Time</th>\n",
       "      <th></th>\n",
       "      <th></th>\n",
       "      <th></th>\n",
       "      <th></th>\n",
       "      <th></th>\n",
       "      <th></th>\n",
       "    </tr>\n",
       "  </thead>\n",
       "  <tbody>\n",
       "    <tr>\n",
       "      <th>2021-05-19 05:12:20.998086400</th>\n",
       "      <td>M3-1</td>\n",
       "      <td>13.3685</td>\n",
       "      <td>0.0447</td>\n",
       "      <td>2.459354e+06</td>\n",
       "      <td>0.515201</td>\n",
       "      <td>0.000053</td>\n",
       "    </tr>\n",
       "    <tr>\n",
       "      <th>2021-05-19 05:12:20.998086400</th>\n",
       "      <td>M3-10</td>\n",
       "      <td>14.6658</td>\n",
       "      <td>0.0419</td>\n",
       "      <td>2.459354e+06</td>\n",
       "      <td>-0.788050</td>\n",
       "      <td>0.000053</td>\n",
       "    </tr>\n",
       "    <tr>\n",
       "      <th>2021-05-19 05:12:20.998086400</th>\n",
       "      <td>M3-100</td>\n",
       "      <td>13.5764</td>\n",
       "      <td>0.0594</td>\n",
       "      <td>2.459354e+06</td>\n",
       "      <td>0.306348</td>\n",
       "      <td>0.000055</td>\n",
       "    </tr>\n",
       "    <tr>\n",
       "      <th>2021-05-19 05:12:20.998086400</th>\n",
       "      <td>M3-101</td>\n",
       "      <td>13.8047</td>\n",
       "      <td>0.0258</td>\n",
       "      <td>2.459354e+06</td>\n",
       "      <td>0.077000</td>\n",
       "      <td>0.000051</td>\n",
       "    </tr>\n",
       "    <tr>\n",
       "      <th>2021-05-19 05:12:20.998086400</th>\n",
       "      <td>M3-102</td>\n",
       "      <td>15.0523</td>\n",
       "      <td>0.0365</td>\n",
       "      <td>2.459354e+06</td>\n",
       "      <td>-1.176322</td>\n",
       "      <td>0.000052</td>\n",
       "    </tr>\n",
       "    <tr>\n",
       "      <th>...</th>\n",
       "      <td>...</td>\n",
       "      <td>...</td>\n",
       "      <td>...</td>\n",
       "      <td>...</td>\n",
       "      <td>...</td>\n",
       "      <td>...</td>\n",
       "    </tr>\n",
       "    <tr>\n",
       "      <th>2021-05-29 06:57:14.996174336</th>\n",
       "      <td>M3-95</td>\n",
       "      <td>13.2968</td>\n",
       "      <td>0.0402</td>\n",
       "      <td>2.459364e+06</td>\n",
       "      <td>0.524198</td>\n",
       "      <td>0.000048</td>\n",
       "    </tr>\n",
       "    <tr>\n",
       "      <th>2021-05-29 06:57:14.996174336</th>\n",
       "      <td>M3-96</td>\n",
       "      <td>14.3389</td>\n",
       "      <td>0.0651</td>\n",
       "      <td>2.459364e+06</td>\n",
       "      <td>-0.522683</td>\n",
       "      <td>0.000053</td>\n",
       "    </tr>\n",
       "    <tr>\n",
       "      <th>2021-05-29 06:57:14.996174336</th>\n",
       "      <td>M3-97</td>\n",
       "      <td>15.2248</td>\n",
       "      <td>0.0458</td>\n",
       "      <td>2.459364e+06</td>\n",
       "      <td>-1.412646</td>\n",
       "      <td>0.000049</td>\n",
       "    </tr>\n",
       "    <tr>\n",
       "      <th>2021-05-29 06:57:14.996174336</th>\n",
       "      <td>M3-98</td>\n",
       "      <td>14.4993</td>\n",
       "      <td>0.0348</td>\n",
       "      <td>2.459364e+06</td>\n",
       "      <td>-0.683818</td>\n",
       "      <td>0.000048</td>\n",
       "    </tr>\n",
       "    <tr>\n",
       "      <th>2021-05-29 06:57:14.996174336</th>\n",
       "      <td>M3-99</td>\n",
       "      <td>14.1248</td>\n",
       "      <td>0.0229</td>\n",
       "      <td>2.459364e+06</td>\n",
       "      <td>-0.307600</td>\n",
       "      <td>0.000046</td>\n",
       "    </tr>\n",
       "  </tbody>\n",
       "</table>\n",
       "<p>36354 rows × 6 columns</p>\n",
       "</div>"
      ],
      "text/plain": [
       "                                 Name      Mag   Error            JD  \\\n",
       "Time                                                                   \n",
       "2021-05-19 05:12:20.998086400    M3-1  13.3685  0.0447  2.459354e+06   \n",
       "2021-05-19 05:12:20.998086400   M3-10  14.6658  0.0419  2.459354e+06   \n",
       "2021-05-19 05:12:20.998086400  M3-100  13.5764  0.0594  2.459354e+06   \n",
       "2021-05-19 05:12:20.998086400  M3-101  13.8047  0.0258  2.459354e+06   \n",
       "2021-05-19 05:12:20.998086400  M3-102  15.0523  0.0365  2.459354e+06   \n",
       "...                               ...      ...     ...           ...   \n",
       "2021-05-29 06:57:14.996174336   M3-95  13.2968  0.0402  2.459364e+06   \n",
       "2021-05-29 06:57:14.996174336   M3-96  14.3389  0.0651  2.459364e+06   \n",
       "2021-05-29 06:57:14.996174336   M3-97  15.2248  0.0458  2.459364e+06   \n",
       "2021-05-29 06:57:14.996174336   M3-98  14.4993  0.0348  2.459364e+06   \n",
       "2021-05-29 06:57:14.996174336   M3-99  14.1248  0.0229  2.459364e+06   \n",
       "\n",
       "                                   DMag    DError  \n",
       "Time                                               \n",
       "2021-05-19 05:12:20.998086400  0.515201  0.000053  \n",
       "2021-05-19 05:12:20.998086400 -0.788050  0.000053  \n",
       "2021-05-19 05:12:20.998086400  0.306348  0.000055  \n",
       "2021-05-19 05:12:20.998086400  0.077000  0.000051  \n",
       "2021-05-19 05:12:20.998086400 -1.176322  0.000052  \n",
       "...                                 ...       ...  \n",
       "2021-05-29 06:57:14.996174336  0.524198  0.000048  \n",
       "2021-05-29 06:57:14.996174336 -0.522683  0.000053  \n",
       "2021-05-29 06:57:14.996174336 -1.412646  0.000049  \n",
       "2021-05-29 06:57:14.996174336 -0.683818  0.000048  \n",
       "2021-05-29 06:57:14.996174336 -0.307600  0.000046  \n",
       "\n",
       "[36354 rows x 6 columns]"
      ]
     },
     "execution_count": 330,
     "metadata": {},
     "output_type": "execute_result"
    }
   ],
   "source": [
    "df"
   ]
  },
  {
   "cell_type": "code",
   "execution_count": null,
   "id": "22e2bf2c-311e-4bee-9db9-ca23d1830bfc",
   "metadata": {},
   "outputs": [],
   "source": []
  }
 ],
 "metadata": {
  "kernelspec": {
   "display_name": "Python 3 (ipykernel)",
   "language": "python",
   "name": "python3"
  },
  "language_info": {
   "codemirror_mode": {
    "name": "ipython",
    "version": 3
   },
   "file_extension": ".py",
   "mimetype": "text/x-python",
   "name": "python",
   "nbconvert_exporter": "python",
   "pygments_lexer": "ipython3",
   "version": "3.9.7"
  }
 },
 "nbformat": 4,
 "nbformat_minor": 5
}
